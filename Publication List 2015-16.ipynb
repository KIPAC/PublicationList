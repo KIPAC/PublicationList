{
 "cells": [
  {
   "cell_type": "code",
   "execution_count": 1,
   "metadata": {
    "collapsed": false
   },
   "outputs": [],
   "source": [
    "from PublicationListUtils import *"
   ]
  },
  {
   "cell_type": "code",
   "execution_count": 2,
   "metadata": {
    "collapsed": false
   },
   "outputs": [],
   "source": [
    "# url = 'https://docs.google.com/spreadsheets/d/1Ok5i25gibuLTHoRhGhmNMqTplMh--0-i4L_8cxzkUxI/export?format=csv&gid=0'\n",
    "url = 'https://docs.google.com/spreadsheets/d/1Ok5i25gibuLTHoRhGhmNMqTplMh--0-i4L_8cxzkUxI/export?format=csv&gid=147959823'\n",
    "members = load_members_from_google_sheets(url)"
   ]
  },
  {
   "cell_type": "code",
   "execution_count": 3,
   "metadata": {
    "collapsed": false
   },
   "outputs": [],
   "source": [
    "articles = Articles(query_constraints={'pubdate':'[\"2015-09-01\" TO \"2016-08-31\"]', \n",
    "                                       'database':'(\"astronomy\" OR \"physics\")'})"
   ]
  },
  {
   "cell_type": "code",
   "execution_count": 4,
   "metadata": {
    "collapsed": false,
    "scrolled": true
   },
   "outputs": [
    {
     "name": "stdout",
     "output_type": "stream",
     "text": [
      "Noah Kurinsky"
     ]
    },
    {
     "name": "stderr",
     "output_type": "stream",
     "text": [
      "/Users/pjm/miniconda2/envs/lsst/lib/python2.7/site-packages/ads/utils.py:23: UserWarning: You are lazy loading attributes via 'title', and so are making multiple calls to the API. This will impact your overall rate limits.\n",
      "  UserWarning,\n",
      "/Users/pjm/miniconda2/envs/lsst/lib/python2.7/site-packages/ads/utils.py:23: UserWarning: You are lazy loading attributes via 'author', and so are making multiple calls to the API. This will impact your overall rate limits.\n",
      "  UserWarning,\n",
      "/Users/pjm/miniconda2/envs/lsst/lib/python2.7/site-packages/ads/utils.py:23: UserWarning: You are lazy loading attributes via 'aff', and so are making multiple calls to the API. This will impact your overall rate limits.\n",
      "  UserWarning,\n",
      "/Users/pjm/miniconda2/envs/lsst/lib/python2.7/site-packages/ads/utils.py:23: UserWarning: You are lazy loading attributes via 'pubdate', and so are making multiple calls to the API. This will impact your overall rate limits.\n",
      "  UserWarning,\n"
     ]
    },
    {
     "name": "stdout",
     "output_type": "stream",
     "text": [
      " 2\n",
      "Yajie Yuan 3\n",
      "Hongjun An 6\n",
      "Keith Thompson 9\n",
      "Jean-Baptiste Ruffio 4\n",
      "James Panetta 0\n",
      "Ranjan Laha 7\n",
      "Aaron Roodman 41\n",
      "Gary Godfrey 18\n",
      "Yao-Yuan Mao 9\n",
      "Todd Hoeksema 0\n",
      "Phil Marshall 17\n",
      "Toshiya Namikawa 13\n",
      "Warren Morningstar 2\n",
      "Tony Johnson 5\n",
      "Anders Borgland 4\n",
      "Kirk Gilmore 1\n",
      "Tom Shutt 7\n",
      "Makoto Asai 6\n",
      "Fatima Rubio da Costa 4\n",
      "Ralf Kaehler 0\n",
      "Tom Abel 4\n",
      "Warit Mitthumsiri 0\n",
      "Philipp Mertsch 1\n",
      "Homer Neal 0\n",
      "Elisabeth Krause 16\n",
      "Marco Viero 8\n",
      "Irina Zhuravleva 12\n",
      "Patricia Burchat 11\n",
      "Anja von der Linden 9\n",
      "Kelly Stifter 1\n",
      "Daniel Gruen 22\n",
      "William East 8\n",
      "James Grayson 7\n",
      "Maria Elena Monzani 29\n",
      "Scott Reid 0\n",
      "Joshua Meyers 0\n",
      "Tracy Usher 3\n",
      "Wei Ji 0\n",
      "Shantha Condamoor 0\n",
      "Eva Silverstein 4\n",
      "Ondrej Urban 2\n",
      "Sean McLaughlin 0\n",
      "Eric Charles 1\n",
      "Sami Tantawi 9\n",
      "Stewart Koppell 0\n",
      "Matthew Wood 1\n",
      "Christina Ignarra 8\n",
      "Dan Akerib 9\n",
      "Ki Won Yoon 10\n",
      "Blas Cabrera 4\n",
      "Richard Dubois 1\n",
      "Sowmya Kamath 0\n",
      "Dale Li 10\n",
      "Greg Madejski 17\n",
      "Norbert Werner 15\n",
      "Saptarshi Chaudhuri 3\n",
      "Lori White 0\n",
      "Alice Allafort 0\n",
      "Frederic Effenberger 5\n",
      "James Russell 7\n",
      "Adam Snyder 0\n",
      "Elliott Bloom 19\n",
      "Yashar Hezaveh 6\n",
      "Richard Anantua 1\n",
      "Rebecca Canning 6\n",
      "Dongwoo Chung 0\n",
      "Tomasz Biesiadzinski 7\n",
      "Devon Powell 1\n",
      "Krzysztof Nalewajko 6\n",
      "Charles Blakemore  0\n",
      "Thomas Whitis 7\n",
      "Kimmy Wu 7\n",
      "Charles Titus 0\n",
      "Igor Moskalenko 21\n",
      "Hirokazu Odaka 8\n",
      "Nadine Kurita 0\n",
      "Thomas Glanzman 11\n",
      "Rafe Schindler 10\n",
      "Anna Ogorzalek 0\n",
      "Brian Van Klaveren 0\n",
      "Zvonimir Vlah 7\n",
      "Rob Cameron 21\n",
      "Glenn Morris 4\n",
      "Seth Digel 16\n",
      "Lance Dixon 4\n",
      "Heather Kelly 0\n",
      "Zhang Zhang 0\n",
      "Harry Desmond 3\n",
      "Rajiv Krishnakumar 3\n",
      "Matthew Becker 13\n",
      "Michael Peskin 4\n",
      "Kim Lo 0\n",
      "Walter Innes 11\n",
      "Steve Allen 12\n",
      "Adam Koenig 0\n",
      "Roger Blandford 23\n",
      "Daniel Flath 0\n",
      "Risa Wechsler 34\n",
      "Sam Totorica 2\n",
      "Paul Brink 4\n",
      "Warren Focke 12\n",
      "Jamie Tolan 10\n",
      "Roger Romani 12\n",
      "Ashley King 8\n",
      "Troy Porter 20\n",
      "Chao-Lin Kuo 11\n",
      "Kate Follette 12\n",
      "Matthew Kistler 6\n",
      "Bridget Bertoni 1\n",
      "Helen Craig 0\n",
      "Andrea Albert 16\n",
      "Jae Hwan Kang 0\n",
      "Charlotte Hee 0\n",
      "Chris Davis 5\n",
      "Gregg Thayer 0\n",
      "Walter Ogburn 10\n",
      "Andrew Rasmussen 1\n",
      "Renata Kallosh 18\n",
      "Stuart Marshall 2\n",
      "Daniel Van Winkle 0\n",
      "Elena Orlando 27\n",
      "Ethan Karpel 7\n",
      "Sarah Church 1\n",
      "Alis Deason 2\n",
      "Andrei Linde 9\n",
      "Kimberly Jackson Palladino 8\n",
      "Kiruthika Devaraj 1\n",
      "Eric Yang 0\n",
      "Tsugio Aramaki 2\n",
      "Shamit Kachru 8\n",
      "Ji-Hoon Kim 9\n",
      "Wing To 0\n",
      "Phil Scherrer 7\n",
      "Alexandra DeMaio 0\n",
      "Leonardo Senatore 11\n",
      "Sasha Kosovichev 6\n",
      "Mark Arndt 2\n",
      "Radoslaw Wojtak 2\n",
      "Kent Irwin 32\n",
      "Leonard Susskind 4\n",
      "Owen Saxton 0\n",
      "Ron Adler 2\n",
      "Eli Rykoff 42\n",
      "Zeeshan Ahmed 17\n",
      "Richard Partridge 2\n",
      "Kristi Schneck 2\n",
      "Matt Sieth 0\n",
      "Steve Kahn 6\n",
      "Giorgio Gratta 8\n",
      "Sam Skillman 2\n",
      "Nicole Hartman 1\n",
      "Jonathan Zrake 6\n",
      "Mark Kasevich 9\n",
      "Vahe Petrosian 12\n",
      "John Mester 2\n",
      "Peter Graham 9\n",
      "Nicola Omodei 13\n",
      "Joe DeRose 2\n",
      "Leon Rochester 4\n",
      "Kevin Reil 19\n",
      "Kyle Story 3\n",
      "John Fox 0\n",
      "Tony Li 1\n",
      "David Burke 32\n",
      "Concetta Cartaro 13\n",
      "Matthew Lewandowski 1\n",
      "Ryan Linehan 0\n",
      "Jim Chiang 18\n",
      "Robert Byer 36\n",
      "Anthony Waite 0\n",
      "Rosemary Bramante 7\n",
      "Peter Sturrock 2\n",
      "Aharon Kapitulnik 0\n",
      "Stephen Shenker 1\n",
      "Michael Baumer 1\n",
      "Mattia di Mauro 11\n",
      "Bryant Garcia 0\n",
      "Jialu Zhu 0\n",
      "Savas Dimopoulos 3\n",
      "Giacomo Vianello 20\n",
      "Vanessa Bailey 11\n",
      "Francis Everitt 0\n",
      "Joanne Bogart 0\n",
      "Jana Thayer 21\n",
      "Bruce Macintosh 24\n",
      "Ben Lehmann 1\n",
      "Simon Foreman 4\n",
      "Peihao Sun 0\n",
      "Peter Lewis 0\n",
      "Bob Wagoner 0\n",
      "Eugenio Bottacini 19\n",
      "Mandeep S. S. Gill 2\n",
      "Iryna Butsky 0\n",
      "Adam Wright 0\n",
      "Zevin Polzin 0\n",
      "Adam Mantz 6\n",
      "Sarah Kernasovskiy 10\n",
      "Stephen Tether 0\n",
      "Peter Michelson 21\n"
     ]
    }
   ],
   "source": [
    "for member in members:\n",
    "    print member['key'], articles.add(member)"
   ]
  },
  {
   "cell_type": "code",
   "execution_count": 5,
   "metadata": {
    "collapsed": false
   },
   "outputs": [],
   "source": [
    "articles.whiten_member_collab()"
   ]
  },
  {
   "cell_type": "code",
   "execution_count": 12,
   "metadata": {
    "collapsed": false
   },
   "outputs": [],
   "source": [
    "with open('white_list.txt') as f:\n",
    "    white_list = [l.strip() for l in f]\n",
    "articles.white_list(white_list)"
   ]
  },
  {
   "cell_type": "code",
   "execution_count": 13,
   "metadata": {
    "collapsed": false
   },
   "outputs": [],
   "source": [
    "with open('remove_list.txt') as f:\n",
    "    remove_list = [l.strip() for l in f]\n",
    "articles.remove(remove_list)"
   ]
  },
  {
   "cell_type": "code",
   "execution_count": 14,
   "metadata": {
    "collapsed": false
   },
   "outputs": [],
   "source": [
    "require_verification = articles.get_require_verification()\n",
    "for item in require_verification:\n",
    "    print u'{0[bibcode]} [{1}?]\\n\"{0[title]}\" by {0[first_author]} et al.\\n'.format(item, u'? '.join(item['to_verify']))"
   ]
  },
  {
   "cell_type": "code",
   "execution_count": 15,
   "metadata": {
    "collapsed": false
   },
   "outputs": [
    {
     "name": "stdout",
     "output_type": "stream",
     "text": [
      "total # 542\n",
      "arxiv # 178\n",
      "awaits verification 0\n"
     ]
    }
   ],
   "source": [
    "print 'total #', articles.get_count()\n",
    "print 'arxiv #', articles.get_count(arxiv_only=True)\n",
    "print 'awaits verification', len(require_verification)"
   ]
  },
  {
   "cell_type": "code",
   "execution_count": 16,
   "metadata": {
    "collapsed": false
   },
   "outputs": [],
   "source": [
    "with open('tex/entries.tex', 'w') as f:\n",
    "    for l in articles.generate_formatted_output(AuthorsFormatter(name_formatter_tex), entry_formatter_tex):\n",
    "        f.write(l + '\\n')"
   ]
  },
  {
   "cell_type": "code",
   "execution_count": 17,
   "metadata": {
    "collapsed": false
   },
   "outputs": [],
   "source": [
    "output = articles.generate_formatted_output(AuthorsFormatter(name_formatter_html), entry_formatter_html)\n",
    "\n",
    "with open('html/template.html', 'r') as f:\n",
    "    with open('html/index.html', 'w') as fo:\n",
    "        for l in f:\n",
    "            if l.strip() == '<!-- INSERT HERE -->':\n",
    "                for o in output:\n",
    "                    fo.write(o+'\\n')\n",
    "            else:\n",
    "                fo.write(l)"
   ]
  },
  {
   "cell_type": "code",
   "execution_count": null,
   "metadata": {
    "collapsed": true
   },
   "outputs": [],
   "source": []
  }
 ],
 "metadata": {
  "kernelspec": {
   "display_name": "Python 2",
   "language": "python",
   "name": "python2"
  },
  "language_info": {
   "codemirror_mode": {
    "name": "ipython",
    "version": 2
   },
   "file_extension": ".py",
   "mimetype": "text/x-python",
   "name": "python",
   "nbconvert_exporter": "python",
   "pygments_lexer": "ipython2",
   "version": "2.7.12"
  }
 },
 "nbformat": 4,
 "nbformat_minor": 0
}
