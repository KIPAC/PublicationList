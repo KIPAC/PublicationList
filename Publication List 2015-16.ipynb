{
 "cells": [
  {
   "cell_type": "code",
   "execution_count": 1,
   "metadata": {
    "collapsed": false
   },
   "outputs": [],
   "source": [
    "from PublicationListUtils import *"
   ]
  },
  {
   "cell_type": "code",
   "execution_count": 2,
   "metadata": {
    "collapsed": true
   },
   "outputs": [],
   "source": [
    "url = 'https://docs.google.com/spreadsheets/d/1Ok5i25gibuLTHoRhGhmNMqTplMh--0-i4L_8cxzkUxI/export?format=csv&gid=147959823'\n",
    "members = load_members_from_google_sheets(url)"
   ]
  },
  {
   "cell_type": "code",
   "execution_count": 3,
   "metadata": {
    "collapsed": false
   },
   "outputs": [],
   "source": [
    "articles = Articles(query_constraints={'pubdate':'[\"2015-09-01\" TO \"2016-08-31\"]', \n",
    "                                       'database':'(\"astronomy\" OR \"physics\")'})"
   ]
  },
  {
   "cell_type": "code",
   "execution_count": 4,
   "metadata": {
    "collapsed": false,
    "scrolled": true
   },
   "outputs": [
    {
     "name": "stdout",
     "output_type": "stream",
     "text": [
      "Noah Kurinsky"
     ]
    },
    {
     "name": "stderr",
     "output_type": "stream",
     "text": [
      "/Users/pjm/miniconda2/envs/lsst/lib/python2.7/site-packages/ads/utils.py:23: UserWarning: You are lazy loading attributes via 'title', and so are making multiple calls to the API. This will impact your overall rate limits.\n",
      "  UserWarning,\n",
      "/Users/pjm/miniconda2/envs/lsst/lib/python2.7/site-packages/ads/utils.py:23: UserWarning: You are lazy loading attributes via 'author', and so are making multiple calls to the API. This will impact your overall rate limits.\n",
      "  UserWarning,\n",
      "/Users/pjm/miniconda2/envs/lsst/lib/python2.7/site-packages/ads/utils.py:23: UserWarning: You are lazy loading attributes via 'aff', and so are making multiple calls to the API. This will impact your overall rate limits.\n",
      "  UserWarning,\n",
      "/Users/pjm/miniconda2/envs/lsst/lib/python2.7/site-packages/ads/utils.py:23: UserWarning: You are lazy loading attributes via 'pubdate', and so are making multiple calls to the API. This will impact your overall rate limits.\n",
      "  UserWarning,\n"
     ]
    },
    {
     "name": "stdout",
     "output_type": "stream",
     "text": [
      " 2\n",
      "Yajie Yuan 3\n",
      "Hongjun An 6\n",
      "Keith Thompson 9\n",
      "Jean-Baptiste Ruffio 4\n",
      "Mandeep Gill 2\n",
      "Aaron Roodman 41\n",
      "Yao-Yuan Mao 9\n",
      "Phil Marshall 17\n",
      "Christopher Williams 3\n",
      "Maria Dainotti 2\n",
      "Anders Borgland 4\n",
      "Warren Morningstar 2\n",
      "Tom Shutt 7\n",
      "Makoto Asai 6\n",
      "Fatima Rubio da Costa 4\n",
      "Ralf Kaehler 0\n",
      "Tom Abel 4\n",
      "Philipp Mertsch 1\n",
      "Elisabeth Krause 16\n",
      "Marco Viero 7\n",
      "Irina Zhuravleva 12\n",
      "Patricia Burchat 11\n",
      "Marc Williamson 2\n",
      "Jialu Zhu 0\n",
      "William East 6\n",
      "James Panetta 0\n",
      "Maria Elena Monzani 29\n",
      "Joshua Meyers 0\n",
      "Stefan Funk 12\n",
      "Dmitry Malyshev 8\n",
      "Daniel Green 1\n",
      "Eva Silverstein 4\n",
      "Ondrej Urban 2\n",
      "Elena Orlando 29\n",
      "Anja von der Linden 9\n",
      "Anna Franckowiak 16\n",
      "Eric Charles 1\n",
      "Miguel Sanchez-Conde 2\n",
      "Stewart Koppell 0\n",
      "Matthew Wood 1\n",
      "Debbie Bard 9\n",
      "Rajiv Krishnakumar 3\n",
      "Dan Akerib 9\n",
      "Ki Won Yoon 10\n",
      "Blas Cabrera 4\n",
      "Kent Irwin 32\n",
      "Qingrong Chen 0\n",
      "Tobias Jogler 19\n",
      "Greg Madejski 17\n",
      "Norbert Werner 15\n",
      "Julie Hlavacek-Larrondo 6\n",
      "Alice Allafort 0\n",
      "Saptarshi Chaudhuri 3\n",
      "Rachel Reddick 1\n",
      "Adam Snyder 0\n",
      "Elliott Bloom 17\n",
      "Yashar Hezaveh 6\n",
      "Richard Anantua 1\n",
      "Rebecca Canning 6\n",
      "Dongwoo Chung 0\n",
      "Tomasz Biesiadzinski 7\n",
      "Anne Mette Frejsel 0\n",
      "Devon Powell 1\n",
      "Krzysztof Nalewajko 6\n",
      "Ryan Keisler 4\n",
      "Risa Wechsler 34\n",
      "Luigi Tibaldo 9\n",
      "Thomas Whitis 7\n",
      "Kimmy Wu 7\n",
      "Igor Moskalenko 21\n",
      "Sowmya Kamath 0\n",
      "Nadine Kurita 0\n",
      "Rafe Schindler 10\n",
      "Anna Ogorzalek 0\n",
      "Zvonimir Vlah 7\n",
      "Rob Cameron 21\n",
      "Glenn Morris 3\n",
      "Seth Digel 16\n",
      "Heather Kelly 0\n",
      "Harry Desmond 3\n",
      "Gregory Dubois-Felsmann 8\n",
      "Yu Lu 1\n",
      "Matthew Becker 13\n",
      "Simon Foreman 4\n",
      "Walter Innes 11\n",
      "Steve Allen 11\n",
      "Carlos Cunha 36\n",
      "Roger Blandford 24\n",
      "Kirk Gilmore 1\n",
      "Charlotte Hee 0\n",
      "Sam Totorica 2\n",
      "Paul Brink 4\n",
      "Warren Focke 12\n",
      "Jamie Tolan 10\n",
      "Roger Romani 12\n",
      "Ashley King 8\n",
      "Troy Porter 20\n",
      "Chao-Lin Kuo 11\n",
      "Kate Follette 12\n",
      "William Chickering 0\n",
      "Matthew Kistler 6\n",
      "Thomas Glanzman 11\n",
      "Asimina Arvanitaki 2\n",
      "Helen Craig 0\n",
      "Andrea Albert 16\n",
      "Jae Hwan Kang 0\n",
      "Chris Davis 5\n",
      "Walter Ogburn 10\n",
      "Andrew Rasmussen 1\n",
      "Renata Kallosh 18\n",
      "Michael Busha 3\n",
      "Sarah Church 1\n",
      "John Fox 0\n",
      "Andrei Linde 10\n",
      "Kimberly Jackson Palladino 8\n",
      "Kiruthika Devaraj 1\n",
      "Junichiro Katsuta 1\n",
      "James Grayson 7\n",
      "Paul Simeon 0\n",
      "Wing To 0\n",
      "Phil Scherrer 7\n",
      "Leonardo Senatore 9\n",
      "Anirban Chatterjee 0\n",
      "Frederic Effenberger 5\n",
      "Radoslaw Wojtak 2\n",
      "Richard Dubois 1\n",
      "Gary Godfrey 18\n",
      "Ron Adler 2\n",
      "Eli Rykoff 42\n",
      "Richard Partridge 2\n",
      "Amy Furniss 7\n",
      "Kristi Schneck 2\n",
      "Matt Sieth 0\n",
      "Steve Kahn 12\n",
      "Giorgio Gratta 8\n",
      "Sam Skillman 2\n",
      "Jonathan Zrake 6\n",
      "Adam Mantz 7\n",
      "Vahe Petrosian 12\n",
      "Nicola Omodei 15\n",
      "Joe DeRose 2\n",
      "Peter Sturrock 2\n",
      "Kevin Reil 19\n",
      "Peter Graham 9\n",
      "Tony Li 1\n",
      "David Burke 33\n",
      "Zhang Zhang 0\n",
      "Matthew Lewandowski 1\n",
      "Jim Chiang 18\n",
      "Ranjan Laha 7\n",
      "Rosemary Bramante 7\n",
      "Warit Mitthumsiri 0\n",
      "Michael Baumer 1\n",
      "Patrick Ingraham 2\n",
      "Bryant Garcia 0\n",
      "Zeesh Ahmed 17\n",
      "Giacomo Vianello 22\n",
      "Leonard Susskind 4\n",
      "Joanne Bogart 0\n",
      "Bruce Macintosh 24\n",
      "Ben Lehmann 1\n",
      "Alex Sugarbaker 2\n",
      "Mark Allen 1\n",
      "Peter Lewis 0\n",
      "Bob Wagoner 0\n",
      "Eugenio Bottacini 19\n",
      "Eduardo Rozo 13\n",
      "Adam Wright 0\n",
      "Sarah Kernasovskiy 10\n",
      "Peter Michelson 21\n"
     ]
    }
   ],
   "source": [
    "for member in members:\n",
    "    print member['key'], articles.add(member)"
   ]
  },
  {
   "cell_type": "code",
   "execution_count": 5,
   "metadata": {
    "collapsed": false
   },
   "outputs": [],
   "source": [
    "articles.whiten_member_collab()"
   ]
  },
  {
   "cell_type": "code",
   "execution_count": 6,
   "metadata": {
    "collapsed": false
   },
   "outputs": [],
   "source": [
    "with open('white_list.txt') as f:\n",
    "    white_list = [l.strip() for l in f]\n",
    "articles.white_list(white_list)"
   ]
  },
  {
   "cell_type": "code",
   "execution_count": 7,
   "metadata": {
    "collapsed": false
   },
   "outputs": [],
   "source": [
    "with open('remove_list.txt') as f:\n",
    "    remove_list = [l.strip() for l in f]\n",
    "articles.remove(remove_list)"
   ]
  },
  {
   "cell_type": "code",
   "execution_count": 8,
   "metadata": {
    "collapsed": false
   },
   "outputs": [],
   "source": [
    "require_verification = articles.get_require_verification()\n",
    "for item in require_verification:\n",
    "    print u'{0[bibcode]} [{1}?]\\n\"{0[title]}\" by {0[first_author]} et al.\\n'.format(item, u'? '.join(item['to_verify']))"
   ]
  },
  {
   "cell_type": "code",
   "execution_count": 9,
   "metadata": {
    "collapsed": false
   },
   "outputs": [
    {
     "name": "stdout",
     "output_type": "stream",
     "text": [
      "total # 0\n",
      "arxiv # 0\n",
      "awaits verification 0\n"
     ]
    }
   ],
   "source": [
    "print 'total #', articles.get_count()\n",
    "print 'arxiv #', articles.get_count(arxiv_only=True)\n",
    "print 'awaits verification', len(require_verification)"
   ]
  },
  {
   "cell_type": "code",
   "execution_count": 10,
   "metadata": {
    "collapsed": false
   },
   "outputs": [],
   "source": [
    "with open('tex/entries.tex', 'w') as f:\n",
    "    for l in articles.generate_formatted_output(AuthorsFormatter(name_formatter_tex), entry_formatter_tex):\n",
    "        f.write(l + '\\n')"
   ]
  },
  {
   "cell_type": "code",
   "execution_count": 11,
   "metadata": {
    "collapsed": false
   },
   "outputs": [],
   "source": [
    "output = articles.generate_formatted_output(AuthorsFormatter(name_formatter_html), entry_formatter_html)\n",
    "\n",
    "with open('html/template.html', 'r') as f:\n",
    "    with open('html/index.html', 'w') as fo:\n",
    "        for l in f:\n",
    "            if l.strip() == '<!-- INSERT HERE -->':\n",
    "                for o in output:\n",
    "                    fo.write(o+'\\n')\n",
    "            else:\n",
    "                fo.write(l)"
   ]
  },
  {
   "cell_type": "code",
   "execution_count": null,
   "metadata": {
    "collapsed": true
   },
   "outputs": [],
   "source": []
  }
 ],
 "metadata": {
  "kernelspec": {
   "display_name": "Python 2",
   "language": "python",
   "name": "python2"
  },
  "language_info": {
   "codemirror_mode": {
    "name": "ipython",
    "version": 2
   },
   "file_extension": ".py",
   "mimetype": "text/x-python",
   "name": "python",
   "nbconvert_exporter": "python",
   "pygments_lexer": "ipython2",
   "version": "2.7.12"
  }
 },
 "nbformat": 4,
 "nbformat_minor": 0
}
