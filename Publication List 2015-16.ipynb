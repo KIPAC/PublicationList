{
 "cells": [
  {
   "cell_type": "markdown",
   "metadata": {},
   "source": [
    "# Making the 2015-2016 KIPAC Publication List\n",
    "\n",
    "Yao-Yuan Mao and Phil Marshall\n",
    "\n",
    "In this notebook we describe how we made the publication list for the KIPAC 2016 Annual Report. It uses the code in this repository, and produces some clearly labelled \"2015-2016\" products, including:\n",
    "\n",
    "\n",
    "> WARNING: this notebook *looks* like it could be just run all the way through, but that's not quite true. The process of verifying the list of papers found requires human intervention and iteration. Don't just run this all the way through!"
   ]
  },
  {
   "cell_type": "code",
   "execution_count": 16,
   "metadata": {
    "collapsed": false
   },
   "outputs": [],
   "source": [
    "from PublicationListUtils import *"
   ]
  },
  {
   "cell_type": "markdown",
   "metadata": {},
   "source": [
    "## Get the List of Members\n",
    "\n",
    "This currently has to be maintained by hand. Phil took the 2014-2015 list that Yao had used, and updated it based on the KIPAC website, finding 201 faculty, postdocs, research associates, staff and students.\n",
    "\n",
    "> This list does not match the list of KIPAC Members in the Annual Report! Phil used the website before remembering that he had a complete list in the report PDF... So the numbers below could be changed, if there is time. If you can still read this message, though, it was not been done!"
   ]
  },
  {
   "cell_type": "code",
   "execution_count": 2,
   "metadata": {
    "collapsed": false
   },
   "outputs": [],
   "source": [
    "# 2014-2015:\n",
    "# url = 'https://docs.google.com/spreadsheets/d/1Ok5i25gibuLTHoRhGhmNMqTplMh--0-i4L_8cxzkUxI/export?format=csv&gid=0'\n",
    "\n",
    "# 2015-2016 - same Google Sheets file, different worksheet:\n",
    "url = 'https://docs.google.com/spreadsheets/d/1Ok5i25gibuLTHoRhGhmNMqTplMh--0-i4L_8cxzkUxI/export?format=csv&gid=147959823'\n",
    "\n",
    "members = load_members_from_google_sheets(url)"
   ]
  },
  {
   "cell_type": "markdown",
   "metadata": {},
   "source": [
    "## Find Everyone's Papers\n",
    "\n",
    "First we query ADS for all papers \"published\" (either on arxiv or in a journal) during the report period. Phil chose a complete academic year, between 9/1/15 and 8/31/16. Note that this methodology leads to some double counting when reports are combined: papers can appear on the arxiv for one report, and then again when they are published duing the following year. We decided not to worry about this, on the grounds that both arxiv and journal publication are occasions for celebration!"
   ]
  },
  {
   "cell_type": "code",
   "execution_count": 3,
   "metadata": {
    "collapsed": false
   },
   "outputs": [],
   "source": [
    "articles = Articles(query_constraints={'pubdate':'[\"2015-09-01\" TO \"2016-08-31\"]', \n",
    "                                       'database':'(\"astronomy\" OR \"physics\")'})"
   ]
  },
  {
   "cell_type": "markdown",
   "metadata": {},
   "source": [
    "Now we go through the member list, finding articles whose author list appears to match their names. The output of this command is the number of papers found for that member."
   ]
  },
  {
   "cell_type": "code",
   "execution_count": 4,
   "metadata": {
    "collapsed": false,
    "scrolled": true
   },
   "outputs": [
    {
     "name": "stdout",
     "output_type": "stream",
     "text": [
      "Noah Kurinsky"
     ]
    },
    {
     "name": "stderr",
     "output_type": "stream",
     "text": [
      "/home/yymao/miniconda2/lib/python2.7/site-packages/ads/utils.py:23: UserWarning: You are lazy loading attributes via 'title', and so are making multiple calls to the API. This will impact your overall rate limits.\n",
      "  UserWarning,\n",
      "/home/yymao/miniconda2/lib/python2.7/site-packages/ads/utils.py:23: UserWarning: You are lazy loading attributes via 'author', and so are making multiple calls to the API. This will impact your overall rate limits.\n",
      "  UserWarning,\n",
      "/home/yymao/miniconda2/lib/python2.7/site-packages/ads/utils.py:23: UserWarning: You are lazy loading attributes via 'aff', and so are making multiple calls to the API. This will impact your overall rate limits.\n",
      "  UserWarning,\n",
      "/home/yymao/miniconda2/lib/python2.7/site-packages/ads/utils.py:23: UserWarning: You are lazy loading attributes via 'pubdate', and so are making multiple calls to the API. This will impact your overall rate limits.\n",
      "  UserWarning,\n"
     ]
    },
    {
     "name": "stdout",
     "output_type": "stream",
     "text": [
      " 2\n",
      "Yajie Yuan 3\n",
      "Hongjun An 6\n",
      "Keith Thompson 9\n",
      "Jean-Baptiste Ruffio 4\n",
      "James Panetta 0\n",
      "Ranjan Laha 7\n",
      "Aaron Roodman 41\n",
      "Gary Godfrey 18\n",
      "Yao-Yuan Mao 9\n",
      "Todd Hoeksema 0\n",
      "Phil Marshall 17\n",
      "Toshiya Namikawa 13\n",
      "Warren Morningstar 2\n",
      "Tony Johnson 5\n",
      "Anders Borgland 4\n",
      "Kirk Gilmore 1\n",
      "Tom Shutt 7\n",
      "Makoto Asai 6\n",
      "Fatima Rubio da Costa 4\n",
      "Ralf Kaehler 0\n",
      "Tom Abel 4\n",
      "Warit Mitthumsiri 0\n",
      "Philipp Mertsch 1\n",
      "Homer Neal 0\n",
      "Elisabeth Krause 16\n",
      "Marco Viero 8\n",
      "Irina Zhuravleva 12\n",
      "Patricia Burchat 11\n",
      "Anja von der Linden 9\n",
      "Kelly Stifter 1\n",
      "Daniel Gruen 22\n",
      "William East 8\n",
      "James Grayson 7\n",
      "Maria Elena Monzani 29\n",
      "Scott Reid 0\n",
      "Joshua Meyers 0\n",
      "Tracy Usher 3\n",
      "Wei Ji 1\n",
      "Shantha Condamoor 0\n",
      "Eva Silverstein 4\n",
      "Ondrej Urban 2\n",
      "Sean McLaughlin 0\n",
      "Eric Charles 1\n",
      "Sami Tantawi 9\n",
      "Stewart Koppell 0\n",
      "Matthew Wood 1\n",
      "Christina Ignarra 8\n",
      "Dan Akerib 9\n",
      "Ki Won Yoon 10\n",
      "Blas Cabrera 4\n",
      "Richard Dubois 1\n",
      "Sowmya Kamath 0\n",
      "Dale Li 10\n",
      "Greg Madejski 17\n",
      "Norbert Werner 15\n",
      "Saptarshi Chaudhuri 3\n",
      "Lori White 0\n",
      "Alice Allafort 0\n",
      "Frederic Effenberger 5\n",
      "James Russell 7\n",
      "Adam Snyder 0\n",
      "Elliott Bloom 17\n",
      "Yashar Hezaveh 6\n",
      "Richard Anantua 1\n",
      "Rebecca Canning 6\n",
      "Dongwoo Chung 0\n",
      "Tomasz Biesiadzinski 7\n",
      "Devon Powell 1\n",
      "Krzysztof Nalewajko 6\n",
      "Charles Blakemore  0\n",
      "Thomas Whitis 7\n",
      "Kimmy Wu 7\n",
      "Charles Titus 0\n",
      "Igor Moskalenko 21\n",
      "Hirokazu Odaka 8\n",
      "Nadine Kurita 0\n",
      "Thomas Glanzman 11\n",
      "Rafe Schindler 10\n",
      "Anna Ogorzalek 0\n",
      "Brian Van Klaveren 0\n",
      "Zvonimir Vlah 7\n",
      "Rob Cameron 21\n",
      "Glenn Morris 4\n",
      "Seth Digel 16\n",
      "Lance Dixon 4\n",
      "Heather Kelly 0\n",
      "Zhang Zhang 0\n",
      "Harry Desmond 3\n",
      "Rajiv Krishnakumar 3\n",
      "Matthew Becker 13\n",
      "Michael Peskin 4\n",
      "Kim Lo 0\n",
      "Walter Innes 11\n",
      "Steve Allen 12\n",
      "Adam Koenig 0\n",
      "Roger Blandford 24\n",
      "Daniel Flath 0\n",
      "Risa Wechsler 34\n",
      "Sam Totorica 2\n",
      "Paul Brink 4\n",
      "Warren Focke 12\n",
      "Jamie Tolan 10\n",
      "Roger Romani 12\n",
      "Ashley King 8\n",
      "Troy Porter 20\n",
      "Chao-Lin Kuo 11\n",
      "Kate Follette 12\n",
      "Matthew Kistler 6\n",
      "Bridget Bertoni 1\n",
      "Helen Craig 0\n",
      "Andrea Albert 16\n",
      "Jae Hwan Kang 0\n",
      "Charlotte Hee 0\n",
      "Chris Davis 5\n",
      "Gregg Thayer 0\n",
      "Walter Ogburn 10\n",
      "Andrew Rasmussen 1\n",
      "Renata Kallosh 18\n",
      "Stuart Marshall 2\n",
      "Daniel Van Winkle 0\n",
      "Elena Orlando 29\n",
      "Ethan Karpel 7\n",
      "Sarah Church 1\n",
      "Alis Deason 2\n",
      "Andrei Linde 9\n",
      "Kimberly Jackson Palladino 8\n",
      "Kiruthika Devaraj 1\n",
      "Eric Yang 0\n",
      "Tsugio Aramaki 2\n",
      "Shamit Kachru 8\n",
      "Ji-Hoon Kim 9\n",
      "Wing To 0\n",
      "Phil Scherrer 7\n",
      "Alexandra DeMaio 0\n",
      "Leonardo Senatore 11\n",
      "Sasha Kosovichev 6\n",
      "Mark Arndt 2\n",
      "Radoslaw Wojtak 2\n",
      "Kent Irwin 32\n",
      "Leonard Susskind 4\n",
      "Owen Saxton 0\n",
      "Ron Adler 2\n",
      "Eli Rykoff 40\n",
      "Zeeshan Ahmed 17\n",
      "Richard Partridge 2\n",
      "Kristi Schneck 2\n",
      "Matt Sieth 0\n",
      "Steve Kahn 12\n",
      "Giorgio Gratta 8\n",
      "Sam Skillman 2\n",
      "Nicole Hartman 1\n",
      "Jonathan Zrake 7\n",
      "Mark Kasevich 9\n",
      "Vahe Petrosian 12\n",
      "John Mester 2\n",
      "Peter Graham 9\n",
      "Nicola Omodei 13\n",
      "Joe DeRose 2\n",
      "Leon Rochester 4\n",
      "Kevin Reil 19\n",
      "Kyle Story 3\n",
      "John Fox 0\n",
      "Tony Li 1\n",
      "David Burke 33\n",
      "Concetta Cartaro 13\n",
      "Matthew Lewandowski 1\n",
      "Ryan Linehan 0\n",
      "Jim Chiang 18\n",
      "Robert Byer 34\n",
      "Anthony Waite 0\n",
      "Rosemary Bramante 7\n",
      "Peter Sturrock 2\n",
      "Aharon Kapitulnik 0\n",
      "Stephen Shenker 1\n",
      "Michael Baumer 1\n",
      "Mattia di Mauro 11\n",
      "Bryant Garcia 0\n",
      "Jialu Zhu 0\n",
      "Savas Dimopoulos 3\n",
      "Giacomo Vianello 20\n",
      "Vanessa Bailey 11\n",
      "Francis Everitt 0\n",
      "Joanne Bogart 0\n",
      "Jana Thayer 21\n",
      "Bruce Macintosh 24\n",
      "Ben Lehmann 1\n",
      "Simon Foreman 4\n",
      "Peihao Sun 0\n",
      "Peter Lewis 0\n",
      "Bob Wagoner 0\n",
      "Eugenio Bottacini 19\n",
      "Mandeep S. S. Gill 2\n",
      "Iryna Butsky 0\n",
      "Adam Wright 0\n",
      "Zevin Polzin 0\n",
      "Adam Mantz 7\n",
      "Sarah Kernasovskiy 10\n",
      "Stephen Tether 0\n",
      "Peter Michelson 21\n"
     ]
    }
   ],
   "source": [
    "for member in members:\n",
    "    print member['key'], articles.add(member)"
   ]
  },
  {
   "cell_type": "markdown",
   "metadata": {},
   "source": [
    "## Clean Up The List of Papers\n",
    "\n",
    "Some articles are wrongly attributed to KIPAC members - these need to have their bibcodes added to the \"remove\" list. \n",
    "Other papers could be missing - these are hard to identify, other than by asking `everyone@kipac` to review the publication list! But when they are found, they can be added to the \"white\" list to force them into our final list of bibcodes."
   ]
  },
  {
   "cell_type": "code",
   "execution_count": 5,
   "metadata": {
    "collapsed": false
   },
   "outputs": [],
   "source": [
    "articles.whiten_member_collab()"
   ]
  },
  {
   "cell_type": "code",
   "execution_count": 6,
   "metadata": {
    "collapsed": false
   },
   "outputs": [],
   "source": [
    "with open('white_list.txt') as f:\n",
    "    white_list = [l.strip() for l in f]\n",
    "articles.white_list(white_list)"
   ]
  },
  {
   "cell_type": "code",
   "execution_count": 7,
   "metadata": {
    "collapsed": false
   },
   "outputs": [],
   "source": [
    "with open('remove_list.txt') as f:\n",
    "    remove_list = [l.strip() for l in f]\n",
    "articles.remove(remove_list)"
   ]
  },
  {
   "cell_type": "markdown",
   "metadata": {},
   "source": [
    "Even after applying the remove list and white list, there could still be papers left to check: the following call reports on the papers that need verification. \n",
    "\n",
    "> It's not clear what the operation one is supposed to do here: Phil initially made a giant `white_list` by copying in all the bibcodes that needed verification, and just removed the few that did not look like ours - but Yao may have done something different..."
   ]
  },
  {
   "cell_type": "code",
   "execution_count": 8,
   "metadata": {
    "collapsed": false
   },
   "outputs": [],
   "source": [
    "require_verification = articles.get_require_verification()\n",
    "for item in require_verification:\n",
    "    print u'{0[bibcode]} [{1}?]\\n\"{0[title]}\" by {0[first_author]} et al.\\n'.format(item, u'? '.join(item['to_verify']))"
   ]
  },
  {
   "cell_type": "markdown",
   "metadata": {},
   "source": [
    "Let's see how many papers we have:"
   ]
  },
  {
   "cell_type": "code",
   "execution_count": null,
   "metadata": {
    "collapsed": true
   },
   "outputs": [],
   "source": [
    "print 'total #', articles.get_count()\n",
    "print 'arxiv #', articles.get_count(arxiv_only=True)\n",
    "print 'awaits verification', len(require_verification)"
   ]
  },
  {
   "cell_type": "markdown",
   "metadata": {},
   "source": [
    "Here's a funny case - a paper that has two arxiv IDs?"
   ]
  },
  {
   "cell_type": "code",
   "execution_count": 11,
   "metadata": {
    "collapsed": true
   },
   "outputs": [],
   "source": [
    "articles._bib['2016arXiv160708697E'] = articles._bib['2016arXiv160708697A']"
   ]
  },
  {
   "cell_type": "markdown",
   "metadata": {},
   "source": [
    "## Writing Out the Publication List\n",
    "\n",
    "Now that we have a polished list of bibcodes, we can write out the titles and authors and journals in various ways.\n",
    "There's a few formats we might want to use: latex, html and plain text. David (the annual report designer) wanted plain text."
   ]
  },
  {
   "cell_type": "markdown",
   "metadata": {},
   "source": [
    "### LaTeX"
   ]
  },
  {
   "cell_type": "code",
   "execution_count": 12,
   "metadata": {
    "collapsed": false
   },
   "outputs": [],
   "source": [
    "with open('tex/entries.tex', 'w') as f:\n",
    "    for l in articles.generate_formatted_output(AuthorsFormatter(name_formatter_tex), entry_formatter_tex):\n",
    "        f.write(l + '\\n')"
   ]
  },
  {
   "cell_type": "markdown",
   "metadata": {},
   "source": [
    "### HTML"
   ]
  },
  {
   "cell_type": "code",
   "execution_count": 13,
   "metadata": {
    "collapsed": false
   },
   "outputs": [],
   "source": [
    "output = articles.generate_formatted_output(AuthorsFormatter(name_formatter_html), entry_formatter_html)\n",
    "\n",
    "with open('html/template.html', 'r') as f:\n",
    "    with open('html/index.html', 'w') as fo:\n",
    "        for l in f:\n",
    "            if l.strip() == '<!-- INSERT HERE -->':\n",
    "                for o in output:\n",
    "                    fo.write(o+'\\n')\n",
    "            else:\n",
    "                fo.write(l)"
   ]
  },
  {
   "cell_type": "markdown",
   "metadata": {},
   "source": [
    "### Plain Text"
   ]
  },
  {
   "cell_type": "code",
   "execution_count": 17,
   "metadata": {
    "collapsed": false
   },
   "outputs": [],
   "source": [
    "with open('text/entries.txt', 'w') as f:\n",
    "    for l in articles.generate_formatted_output(AuthorsFormatter(name_formatter_text), entry_formatter_text):\n",
    "        f.write(l + '\\n')"
   ]
  },
  {
   "cell_type": "markdown",
   "metadata": {},
   "source": [
    "This plain text file is our main product this year, so let's make a copy so that David can find it easily:"
   ]
  },
  {
   "cell_type": "code",
   "execution_count": null,
   "metadata": {
    "collapsed": true
   },
   "outputs": [],
   "source": [
    "# ! cp text/entries.txt KIPAC_Publications_2015-2016.txt\n",
    "\n",
    "# Actually I needed to strip out the SUP and SUB formatting, like this:\n",
    "\n",
    "! cat text/entries.txt | sed s%'<SUB>'%''%g | sed s%'</SUB>'%''%g | sed s%'<SUP>'%''%g | sed s%'</SUP>'%''%g > KIPAC_Publications_2015-2016.txt "
   ]
  },
  {
   "cell_type": "markdown",
   "metadata": {},
   "source": [
    "## ADS Metrics Analysis\n",
    "\n",
    "For this we need to query ADS for all 547 papers, and then \"Explore\" them, choosing \"Citation Metrics\" from the menu. The \"big query\" needs a list of bibcodes, which we write out as follows:"
   ]
  },
  {
   "cell_type": "code",
   "execution_count": 19,
   "metadata": {
    "collapsed": true
   },
   "outputs": [],
   "source": [
    "with open('all_bibcodes.txt', 'w') as f:\n",
    "    for l in articles.get_bibcodes():\n",
    "        f.write(l + '\\n')"
   ]
  },
  {
   "cell_type": "code",
   "execution_count": null,
   "metadata": {
    "collapsed": true
   },
   "outputs": [],
   "source": [
    "! cp all_bibcodes.txt KIPAC_Publications_2015-2016_bibcodes.txt"
   ]
  },
  {
   "cell_type": "markdown",
   "metadata": {},
   "source": [
    "The option to upload a list of bibcodes is kind of hard to find. It's in the [\"Paper Form\"](https://ui.adsabs.harvard.edu/#paper-form) tab of the ADS Bumblebee interface. Once there you can paste in a long list of bibcodes to the form box.\n",
    "\n",
    "Phil saved the metric analysis output as a PDF (from a simple browser print operation) which can be viewed [here](https://github.com/KIPAC/PublicationList/raw/2015-2016/KIPAC_Publications_2015-2016_ADSmetrics.pdf). \n",
    "\n",
    "From this, Phil manually edited `tex/main.tex` to say the following (having commented out the 2014 version):"
   ]
  },
  {
   "cell_type": "markdown",
   "metadata": {},
   "source": [
    "```tex\n",
    "All 547 papers published by KIPAC members between September 1, 2015 and August 31, 2016.\n",
    "These papers received more than 79,000 ``reads'' by the community, and by the end of the year they had already been cited by 2,701 other papers (at a mean citation rate of 8.2 per paper),\n",
    " \\href{https://ui.adsabs.harvard.edu/#search/q=*%3A*&__qid=1d427b14eaa3b54b6bf4455466e67f49}{according to SAO/NASA ADS}.\n",
    "KIPAC's $h$-index just for this year was 28 (meaning that we wrote 28 papers that had already received 28 citations by the end of August).\n",
    "```"
   ]
  },
  {
   "cell_type": "markdown",
   "metadata": {},
   "source": [
    "## Making a Word Cloud\n",
    "\n",
    "We can visualize what KIPAC has been working on by stripping out the titles and passing them verbatim to some online wordcloud tools. Phil made a file containing only titles like this:"
   ]
  },
  {
   "cell_type": "code",
   "execution_count": null,
   "metadata": {
    "collapsed": true
   },
   "outputs": [],
   "source": [
    "! cat KIPAC_Publications_2015-2016.txt | cut -d'\"' -f2 | grep . > KIPAC_Publications_2015-2016_titles.txt"
   ]
  },
  {
   "cell_type": "markdown",
   "metadata": {
    "collapsed": true
   },
   "source": [
    "Phil used [wordle](http://www.wordle.net/create) to make the word cloud image. First he cropped out a small sample from the report PDF, and then pulled out colors using [this online picker](http://imagecolorpicker.com/). Here's the color sample image:\n",
    "<img src=\"https://github.com/KIPAC/PublicationList/raw/2015-2016/color_sample.png\" width=100px align=\"right\"></img>\n",
    "\n",
    "\n",
    "Turns out that our purple has (approximate) hex code `#371136` and our teal is `#114f4a`. Phil used the \"Telephoto\" font, and chose \"rounder edges\" and \"horizontal\" layout. Here's the final PNG, grabbed from the screen unfortunately, as the wordle \"save as PNG\" function failed (stupid Java).\n",
    "\n",
    "<img src=\"https://github.com/KIPAC/PublicationList/raw/2015-2016/KIPAC_Publications_2015-2016_titles.png\"></img>"
   ]
  },
  {
   "cell_type": "code",
   "execution_count": null,
   "metadata": {
    "collapsed": true
   },
   "outputs": [],
   "source": []
  }
 ],
 "metadata": {
  "anaconda-cloud": {},
  "kernelspec": {
   "display_name": "Python 2",
   "language": "python",
   "name": "python2"
  },
  "language_info": {
   "codemirror_mode": {
    "name": "ipython",
    "version": 2
   },
   "file_extension": ".py",
   "mimetype": "text/x-python",
   "name": "python",
   "nbconvert_exporter": "python",
   "pygments_lexer": "ipython2",
   "version": "2.7.12"
  }
 },
 "nbformat": 4,
 "nbformat_minor": 0
}
