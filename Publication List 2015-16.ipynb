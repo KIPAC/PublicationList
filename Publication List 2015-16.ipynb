{
 "cells": [
  {
   "cell_type": "code",
   "execution_count": 1,
   "metadata": {
    "collapsed": false
   },
   "outputs": [],
   "source": [
    "from PublicationListUtils import *"
   ]
  },
  {
   "cell_type": "code",
   "execution_count": 2,
   "metadata": {
    "collapsed": true
   },
   "outputs": [],
   "source": [
    "url = 'https://docs.google.com/spreadsheets/d/1Ok5i25gibuLTHoRhGhmNMqTplMh--0-i4L_8cxzkUxI/export?format=csv&gid=147959823'\n",
    "members = load_members_from_google_sheets(url)"
   ]
  },
  {
   "cell_type": "code",
   "execution_count": 3,
   "metadata": {
    "collapsed": false
   },
   "outputs": [],
   "source": [
    "articles = Articles(query_constraints={'pubdate':'[\"2015-09-01\" TO \"2016-08-31\"]', \n",
    "                                       'database':'(\"astronomy\" OR \"physics\")'})"
   ]
  },
  {
   "cell_type": "code",
   "execution_count": 4,
   "metadata": {
    "collapsed": false,
    "scrolled": true
   },
   "outputs": [
    {
     "name": "stdout",
     "output_type": "stream",
     "text": [
      "Noah Kurinsky 0\n",
      "Yajie Yuan 0\n",
      "Hongjun An 0\n",
      "Keith Thompson 0\n",
      "Jean-Baptiste Ruffio 0\n",
      "Mandeep Gill 0\n",
      "Aaron Roodman 0\n",
      "Yao-Yuan Mao 0\n",
      "Phil Marshall 0\n",
      "Christopher Williams 0\n",
      "Maria Dainotti 0\n",
      "Anders Borgland 0\n",
      "Warren Morningstar 0\n",
      "Tom Shutt 0\n",
      "Makoto Asai 0\n",
      "Fatima Rubio da Costa 0\n",
      "Ralf Kaehler 0\n",
      "Tom Abel 0\n",
      "Philipp Mertsch 0\n",
      "Elisabeth Krause 0\n",
      "Marco Viero 0\n",
      "Irina Zhuravleva 0\n",
      "Patricia Burchat 0\n",
      "Marc Williamson 0\n",
      "Jialu Zhu 0\n",
      "William East 0\n",
      "James Panetta 0\n",
      "Maria Elena Monzani 0\n",
      "Joshua Meyers 0\n",
      "Stefan Funk 0\n",
      "Dmitry Malyshev 0\n",
      "Daniel Green 0\n",
      "Eva Silverstein 0\n",
      "Ondrej Urban 0\n",
      "Elena Orlando 0\n",
      "Anja von der Linden 0\n",
      "Anna Franckowiak 0\n",
      "Eric Charles 0\n",
      "Miguel Sanchez-Conde 0\n",
      "Stewart Koppell 0\n",
      "Matthew Wood 0\n",
      "Debbie Bard 0\n",
      "Rajiv Krishnakumar 0\n",
      "Dan Akerib 0\n",
      "Ki Won Yoon 0\n",
      "Blas Cabrera 0\n",
      "Kent Irwin 0\n",
      "Qingrong Chen 0\n",
      "Tobias Jogler 0\n",
      "Greg Madejski 0\n",
      "Norbert Werner 0\n",
      "Julie Hlavacek-Larrondo 0\n",
      "Alice Allafort 0\n",
      "Saptarshi Chaudhuri 0\n",
      "Rachel Reddick 0\n",
      "Adam Snyder 0\n",
      "Elliott Bloom 0\n",
      "Yashar Hezaveh 0\n",
      "Richard Anantua 0\n",
      "Rebecca Canning 0\n",
      "Dongwoo Chung 0\n",
      "Tomasz Biesiadzinski 0\n",
      "Anne Mette Frejsel 0\n",
      "Devon Powell 0\n",
      "Krzysztof Nalewajko 0\n",
      "Ryan Keisler 0\n",
      "Risa Wechsler 0\n",
      "Luigi Tibaldo 0\n",
      "Thomas Whitis 0\n",
      "Kimmy Wu 0\n",
      "Igor Moskalenko 0\n",
      "Sowmya Kamath 0\n",
      "Nadine Kurita 0\n",
      "Rafe Schindler 0\n",
      "Anna Ogorzalek 0\n",
      "Zvonimir Vlah 0\n",
      "Rob Cameron 0\n",
      "Glenn Morris 0\n",
      "Seth Digel 0\n",
      "Heather Kelly 0\n",
      "Harry Desmond 0\n",
      "Gregory Dubois-Felsmann 0\n",
      "Yu Lu 0\n",
      "Matthew Becker 0\n",
      "Simon Foreman 0\n",
      "Walter Innes 0\n",
      "Steve Allen 0\n",
      "Carlos Cunha 0\n",
      "Roger Blandford 0\n",
      "Kirk Gilmore 0\n",
      "Charlotte Hee 0\n",
      "Sam Totorica 0\n",
      "Paul Brink 0\n",
      "Warren Focke 0\n",
      "Jamie Tolan 0\n",
      "Roger Romani 0\n",
      "Ashley King 0\n",
      "Troy Porter 0\n",
      "Chao-Lin Kuo 0\n",
      "Kate Follette 0\n",
      "William Chickering 0\n",
      "Matthew Kistler 0\n",
      "Thomas Glanzman 0\n",
      "Asimina Arvanitaki 0\n",
      "Helen Craig 0\n",
      "Andrea Albert 0\n",
      "Jae Hwan Kang 0\n",
      "Chris Davis 0\n",
      "Walter Ogburn 0\n",
      "Andrew Rasmussen 0\n",
      "Renata Kallosh 0\n",
      "Michael Busha 0\n",
      "Sarah Church 0\n",
      "John Fox 0\n",
      "Andrei Linde 0\n",
      "Kimberly Jackson Palladino 0\n",
      "Kiruthika Devaraj 0\n",
      "Junichiro Katsuta 0\n",
      "James Grayson 0\n",
      "Paul Simeon 0\n",
      "Wing To 0\n",
      "Phil Scherrer 0\n",
      "Leonardo Senatore 0\n",
      "Anirban Chatterjee 0\n",
      "Frederic Effenberger 0\n",
      "Radoslaw Wojtak 0\n",
      "Richard Dubois 0\n",
      "Gary Godfrey 0\n",
      "Ron Adler 0\n",
      "Eli Rykoff 0\n",
      "Richard Partridge 0\n",
      "Amy Furniss 0\n",
      "Kristi Schneck 0\n",
      "Matt Sieth 0\n",
      "Steve Kahn 0\n",
      "Giorgio Gratta 0\n",
      "Sam Skillman 0\n",
      "Jonathan Zrake 0\n",
      "Adam Mantz 0\n",
      "Vahe Petrosian 0\n",
      "Nicola Omodei 0\n",
      "Joe DeRose 0\n",
      "Peter Sturrock 0\n",
      "Kevin Reil 0\n",
      "Peter Graham 0\n",
      "Tony Li 0\n",
      "David Burke 0\n",
      "Zhang Zhang 0\n",
      "Matthew Lewandowski 0\n",
      "Jim Chiang 0\n",
      "Ranjan Laha 0\n",
      "Rosemary Bramante 0\n",
      "Warit Mitthumsiri 0\n",
      "Michael Baumer 0\n",
      "Patrick Ingraham 0\n",
      "Bryant Garcia 0\n",
      "Zeesh Ahmed 0\n",
      "Giacomo Vianello 0\n",
      "Leonard Susskind 0\n",
      "Joanne Bogart 0\n",
      "Bruce Macintosh 0\n",
      "Ben Lehmann 0\n",
      "Alex Sugarbaker 0\n",
      "Mark Allen 0\n",
      "Peter Lewis 0\n",
      "Bob Wagoner 0\n",
      "Eugenio Bottacini 0\n",
      "Eduardo Rozo 0\n",
      "Adam Wright 0\n",
      "Sarah Kernasovskiy 0\n",
      "Peter Michelson 0\n"
     ]
    }
   ],
   "source": [
    "for member in members:\n",
    "    print member['key'], articles.add(member)"
   ]
  },
  {
   "cell_type": "code",
   "execution_count": 5,
   "metadata": {
    "collapsed": false
   },
   "outputs": [],
   "source": [
    "articles.whiten_member_collab()"
   ]
  },
  {
   "cell_type": "code",
   "execution_count": 7,
   "metadata": {
    "collapsed": false
   },
   "outputs": [],
   "source": [
    "with open('white_list.txt') as f:\n",
    "    white_list = [l.strip() for l in f]\n",
    "articles.white_list(white_list)"
   ]
  },
  {
   "cell_type": "code",
   "execution_count": 8,
   "metadata": {
    "collapsed": false
   },
   "outputs": [],
   "source": [
    "with open('remove_list.txt') as f:\n",
    "    remove_list = [l.strip() for l in f]\n",
    "articles.remove(remove_list)"
   ]
  },
  {
   "cell_type": "code",
   "execution_count": 9,
   "metadata": {
    "collapsed": false
   },
   "outputs": [],
   "source": [
    "require_verification = articles.get_require_verification()\n",
    "for item in require_verification:\n",
    "    print u'{0[bibcode]} [{1}?]\\n\"{0[title]}\" by {0[first_author]} et al.\\n'.format(item, u'? '.join(item['to_verify']))"
   ]
  },
  {
   "cell_type": "code",
   "execution_count": 10,
   "metadata": {
    "collapsed": false
   },
   "outputs": [
    {
     "name": "stdout",
     "output_type": "stream",
     "text": [
      "total # 0\n",
      "arxiv # 0\n",
      "awaits verification 0\n"
     ]
    }
   ],
   "source": [
    "print 'total #', articles.get_count()\n",
    "print 'arxiv #', articles.get_count(arxiv_only=True)\n",
    "print 'awaits verification', len(require_verification)"
   ]
  },
  {
   "cell_type": "code",
   "execution_count": 16,
   "metadata": {
    "collapsed": false
   },
   "outputs": [],
   "source": [
    "with open('tex/entries.tex', 'w') as f:\n",
    "    for l in articles.generate_formatted_output(AuthorsFormatter(name_formatter_tex), entry_formatter_tex):\n",
    "        f.write(l + '\\n')"
   ]
  },
  {
   "cell_type": "code",
   "execution_count": 15,
   "metadata": {
    "collapsed": false
   },
   "outputs": [],
   "source": [
    "output = articles.generate_formatted_output(AuthorsFormatter(name_formatter_html), entry_formatter_html)\n",
    "\n",
    "with open('html/template.html', 'r') as f:\n",
    "    with open('html/index.html', 'w') as fo:\n",
    "        for l in f:\n",
    "            if l.strip() == '<!-- INSERT HERE -->':\n",
    "                for o in output:\n",
    "                    fo.write(o+'\\n')\n",
    "            else:\n",
    "                fo.write(l)"
   ]
  },
  {
   "cell_type": "code",
   "execution_count": null,
   "metadata": {
    "collapsed": true
   },
   "outputs": [],
   "source": []
  }
 ],
 "metadata": {
  "kernelspec": {
   "display_name": "Python 2",
   "language": "python",
   "name": "python2"
  },
  "language_info": {
   "codemirror_mode": {
    "name": "ipython",
    "version": 2
   },
   "file_extension": ".py",
   "mimetype": "text/x-python",
   "name": "python",
   "nbconvert_exporter": "python",
   "pygments_lexer": "ipython2",
   "version": "2.7.12"
  }
 },
 "nbformat": 4,
 "nbformat_minor": 0
}
